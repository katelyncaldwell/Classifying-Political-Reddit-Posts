{
 "cells": [
  {
   "cell_type": "markdown",
   "id": "bbd63a4b",
   "metadata": {
    "papermill": {
     "duration": 0.012257,
     "end_time": "2022-05-25T22:31:13.634715",
     "exception": false,
     "start_time": "2022-05-25T22:31:13.622458",
     "status": "completed"
    },
    "tags": []
   },
   "source": [
    "# Classifying Titles with a Basic Dense Network\n",
    "\n",
    "In this notebook, I use Reddit post titles, labeled with political lean (i.e. 'Conservative' or 'Liberal') to train a simple dense network. \n",
    "\n",
    "The data can be found [here](http://www.kaggle.com/datasets/neelgajare/liberals-vs-conservatives-on-reddit-13000-posts).\n",
    "\n",
    "I referenced many materials to complete this and related notebooks, including [*Deep Learning with Python*](http://https://www.manning.com/books/deep-learning-with-python) by François Chollet and [*Natural Language Processing with Transformers*](http://https://www.oreilly.com/library/view/natural-language-processing/9781098103231/) by Lewis Tunstall, Leandro von Werra, Thomas Wolf."
   ]
  },
  {
   "cell_type": "code",
   "execution_count": 1,
   "id": "f2352243",
   "metadata": {
    "_cell_guid": "b1076dfc-b9ad-4769-8c92-a6c4dae69d19",
    "_uuid": "8f2839f25d086af736a60e9eeb907d3b93b6e0e5",
    "execution": {
     "iopub.execute_input": "2022-05-25T22:31:13.664057Z",
     "iopub.status.busy": "2022-05-25T22:31:13.662551Z",
     "iopub.status.idle": "2022-05-25T22:31:13.866409Z",
     "shell.execute_reply": "2022-05-25T22:31:13.865520Z",
     "shell.execute_reply.started": "2022-05-02T12:15:11.692026Z"
    },
    "papermill": {
     "duration": 0.218656,
     "end_time": "2022-05-25T22:31:13.866563",
     "exception": false,
     "start_time": "2022-05-25T22:31:13.647907",
     "status": "completed"
    },
    "tags": []
   },
   "outputs": [
    {
     "name": "stdout",
     "output_type": "stream",
     "text": [
      "/kaggle/input/liberals-vs-conservatives-on-reddit-13000-posts/file_name.csv\n"
     ]
    }
   ],
   "source": [
    "# imports & load data\n",
    "\n",
    "import numpy as np\n",
    "import pandas as pd\n",
    "import os\n",
    "for dirname, _, filenames in os.walk('/kaggle/input'):\n",
    "    for filename in filenames:\n",
    "        print(os.path.join(dirname, filename))\n",
    "        \n",
    "reddit_politics = pd.read_csv(\n",
    "    \"../input/liberals-vs-conservatives-on-reddit-13000-posts/file_name.csv\")"
   ]
  },
  {
   "cell_type": "code",
   "execution_count": 2,
   "id": "0c271698",
   "metadata": {
    "execution": {
     "iopub.execute_input": "2022-05-25T22:31:13.906153Z",
     "iopub.status.busy": "2022-05-25T22:31:13.905070Z",
     "iopub.status.idle": "2022-05-25T22:31:13.909578Z",
     "shell.execute_reply": "2022-05-25T22:31:13.909148Z",
     "shell.execute_reply.started": "2022-05-02T12:15:11.932159Z"
    },
    "papermill": {
     "duration": 0.030008,
     "end_time": "2022-05-25T22:31:13.909693",
     "exception": false,
     "start_time": "2022-05-25T22:31:13.879685",
     "status": "completed"
    },
    "tags": []
   },
   "outputs": [],
   "source": [
    "# drop irrelevant columns & shuffle the data\n",
    "\n",
    "reddit_politics = reddit_politics.drop(columns=['Score', 'Id', 'Subreddit', 'URL', 'Num of Comments', 'Text', 'Date Created'])\n",
    "reddit_politics = reddit_politics.sample(frac=1)"
   ]
  },
  {
   "cell_type": "code",
   "execution_count": 3,
   "id": "b875f2ed",
   "metadata": {
    "execution": {
     "iopub.execute_input": "2022-05-25T22:31:13.939625Z",
     "iopub.status.busy": "2022-05-25T22:31:13.938822Z",
     "iopub.status.idle": "2022-05-25T22:31:13.940851Z",
     "shell.execute_reply": "2022-05-25T22:31:13.941330Z",
     "shell.execute_reply.started": "2022-05-02T12:15:12.162339Z"
    },
    "papermill": {
     "duration": 0.018999,
     "end_time": "2022-05-25T22:31:13.941462",
     "exception": false,
     "start_time": "2022-05-25T22:31:13.922463",
     "status": "completed"
    },
    "tags": []
   },
   "outputs": [],
   "source": [
    "# create labels & data\n",
    "\n",
    "x = reddit_politics[\"Title\"]\n",
    "y = reddit_politics[\"Political Lean\"]"
   ]
  },
  {
   "cell_type": "code",
   "execution_count": 4,
   "id": "a9b1a4cb",
   "metadata": {
    "execution": {
     "iopub.execute_input": "2022-05-25T22:31:13.970465Z",
     "iopub.status.busy": "2022-05-25T22:31:13.967787Z",
     "iopub.status.idle": "2022-05-25T22:31:13.972884Z",
     "shell.execute_reply": "2022-05-25T22:31:13.972413Z",
     "shell.execute_reply.started": "2022-05-02T12:15:12.376519Z"
    },
    "papermill": {
     "duration": 0.019765,
     "end_time": "2022-05-25T22:31:13.973017",
     "exception": false,
     "start_time": "2022-05-25T22:31:13.953252",
     "status": "completed"
    },
    "tags": []
   },
   "outputs": [],
   "source": [
    "# split the data\n",
    "\n",
    "ten_percent = 1285\n",
    "\n",
    "x_train = x[2571:]\n",
    "x_val = x[1285:2571]\n",
    "x_test = x[:1285]\n",
    "\n",
    "y_train = y[2571:]\n",
    "y_val = y[1285:2571]\n",
    "y_test = y[:1285]"
   ]
  },
  {
   "cell_type": "code",
   "execution_count": 5,
   "id": "b1f6613d",
   "metadata": {
    "execution": {
     "iopub.execute_input": "2022-05-25T22:31:14.002050Z",
     "iopub.status.busy": "2022-05-25T22:31:13.998949Z",
     "iopub.status.idle": "2022-05-25T22:31:14.008111Z",
     "shell.execute_reply": "2022-05-25T22:31:14.008555Z",
     "shell.execute_reply.started": "2022-05-02T12:15:12.566341Z"
    },
    "papermill": {
     "duration": 0.02403,
     "end_time": "2022-05-25T22:31:14.008679",
     "exception": false,
     "start_time": "2022-05-25T22:31:13.984649",
     "status": "completed"
    },
    "tags": []
   },
   "outputs": [],
   "source": [
    "# prepare label data by converting 'Conservative' and 'Liberal' strings into 1s and 0s\n",
    "\n",
    "def prepareLabelData(data):\n",
    "    # convert to 0s & 1s\n",
    "    return pd.get_dummies(data)['Conservative'].to_numpy()\n",
    "    \n",
    "    \n",
    "y_train = prepareLabelData(y_train)\n",
    "y_val = prepareLabelData(y_val)\n",
    "y_test = prepareLabelData(y_test)"
   ]
  },
  {
   "cell_type": "code",
   "execution_count": 6,
   "id": "bf711d91",
   "metadata": {
    "execution": {
     "iopub.execute_input": "2022-05-25T22:31:14.038789Z",
     "iopub.status.busy": "2022-05-25T22:31:14.038258Z",
     "iopub.status.idle": "2022-05-25T22:31:22.545385Z",
     "shell.execute_reply": "2022-05-25T22:31:22.544832Z",
     "shell.execute_reply.started": "2022-05-02T12:15:12.755881Z"
    },
    "papermill": {
     "duration": 8.525221,
     "end_time": "2022-05-25T22:31:22.545539",
     "exception": false,
     "start_time": "2022-05-25T22:31:14.020318",
     "status": "completed"
    },
    "tags": []
   },
   "outputs": [
    {
     "name": "stderr",
     "output_type": "stream",
     "text": [
      "2022-05-25 22:31:19.270531: I tensorflow/stream_executor/cuda/cuda_gpu_executor.cc:937] successful NUMA node read from SysFS had negative value (-1), but there must be at least one NUMA node, so returning NUMA node zero\n",
      "2022-05-25 22:31:19.356635: I tensorflow/stream_executor/cuda/cuda_gpu_executor.cc:937] successful NUMA node read from SysFS had negative value (-1), but there must be at least one NUMA node, so returning NUMA node zero\n",
      "2022-05-25 22:31:19.357500: I tensorflow/stream_executor/cuda/cuda_gpu_executor.cc:937] successful NUMA node read from SysFS had negative value (-1), but there must be at least one NUMA node, so returning NUMA node zero\n",
      "2022-05-25 22:31:19.358779: I tensorflow/core/platform/cpu_feature_guard.cc:142] This TensorFlow binary is optimized with oneAPI Deep Neural Network Library (oneDNN) to use the following CPU instructions in performance-critical operations:  AVX2 AVX512F FMA\n",
      "To enable them in other operations, rebuild TensorFlow with the appropriate compiler flags.\n",
      "2022-05-25 22:31:19.359994: I tensorflow/stream_executor/cuda/cuda_gpu_executor.cc:937] successful NUMA node read from SysFS had negative value (-1), but there must be at least one NUMA node, so returning NUMA node zero\n",
      "2022-05-25 22:31:19.360731: I tensorflow/stream_executor/cuda/cuda_gpu_executor.cc:937] successful NUMA node read from SysFS had negative value (-1), but there must be at least one NUMA node, so returning NUMA node zero\n",
      "2022-05-25 22:31:19.361443: I tensorflow/stream_executor/cuda/cuda_gpu_executor.cc:937] successful NUMA node read from SysFS had negative value (-1), but there must be at least one NUMA node, so returning NUMA node zero\n",
      "2022-05-25 22:31:21.271848: I tensorflow/stream_executor/cuda/cuda_gpu_executor.cc:937] successful NUMA node read from SysFS had negative value (-1), but there must be at least one NUMA node, so returning NUMA node zero\n",
      "2022-05-25 22:31:21.272757: I tensorflow/stream_executor/cuda/cuda_gpu_executor.cc:937] successful NUMA node read from SysFS had negative value (-1), but there must be at least one NUMA node, so returning NUMA node zero\n",
      "2022-05-25 22:31:21.273458: I tensorflow/stream_executor/cuda/cuda_gpu_executor.cc:937] successful NUMA node read from SysFS had negative value (-1), but there must be at least one NUMA node, so returning NUMA node zero\n",
      "2022-05-25 22:31:21.274108: I tensorflow/core/common_runtime/gpu/gpu_device.cc:1510] Created device /job:localhost/replica:0/task:0/device:GPU:0 with 15403 MB memory:  -> device: 0, name: Tesla P100-PCIE-16GB, pci bus id: 0000:00:04.0, compute capability: 6.0\n",
      "2022-05-25 22:31:21.649945: I tensorflow/compiler/mlir/mlir_graph_optimization_pass.cc:185] None of the MLIR Optimization Passes are enabled (registered 2)\n"
     ]
    }
   ],
   "source": [
    "# prepare Title data using Keras vectorization layer and one hot encoding\n",
    "\n",
    "import tensorflow as tf\n",
    "from tensorflow.keras.layers import TextVectorization\n",
    "\n",
    "vocab_size = 1000 # maximum length of vocabulary\n",
    "max_len = 100 # maximum length of title\n",
    "\n",
    "vectorize_layer = tf.keras.layers.TextVectorization(\n",
    "        max_tokens=vocab_size,\n",
    "        output_mode='int',\n",
    "        output_sequence_length=max_len)\n",
    "\n",
    "vectorize_layer.adapt(x_train)\n",
    "\n",
    "def prepareTitleData(data, vectorize_layer, vocab_size):\n",
    "    data = data.to_numpy()\n",
    "    data = vectorize_layer(data)\n",
    "    data = tf.one_hot(data, vocab_size)\n",
    "    data = tf.reshape(data, (-1, data.shape[1]*data.shape[2]))\n",
    "    return data\n",
    "\n",
    "x_train = prepareTitleData(x_train, vectorize_layer, vocab_size)\n",
    "x_val = prepareTitleData(x_val, vectorize_layer, vocab_size)\n",
    "x_test = prepareTitleData(x_test, vectorize_layer, vocab_size)"
   ]
  },
  {
   "cell_type": "code",
   "execution_count": 7,
   "id": "3ec7cec5",
   "metadata": {
    "execution": {
     "iopub.execute_input": "2022-05-25T22:31:22.583248Z",
     "iopub.status.busy": "2022-05-25T22:31:22.582375Z",
     "iopub.status.idle": "2022-05-25T22:31:22.594866Z",
     "shell.execute_reply": "2022-05-25T22:31:22.594409Z",
     "shell.execute_reply.started": "2022-05-02T12:23:17.826777Z"
    },
    "papermill": {
     "duration": 0.036518,
     "end_time": "2022-05-25T22:31:22.595018",
     "exception": false,
     "start_time": "2022-05-25T22:31:22.558500",
     "status": "completed"
    },
    "tags": []
   },
   "outputs": [],
   "source": [
    "# define and compile the model\n",
    "\n",
    "from tensorflow import keras\n",
    "from tensorflow.keras import layers\n",
    "\n",
    "model = keras.Sequential([\n",
    "    layers.Dropout(0.2),\n",
    "    layers.Dense(64, activation='relu'),\n",
    "    layers.Dense(1, activation='sigmoid')\n",
    "])\n",
    "\n",
    "model.compile(optimizer='rmsprop',\n",
    "              loss='binary_crossentropy',\n",
    "              metrics=['accuracy'])"
   ]
  },
  {
   "cell_type": "code",
   "execution_count": 8,
   "id": "65f17979",
   "metadata": {
    "execution": {
     "iopub.execute_input": "2022-05-25T22:31:22.625638Z",
     "iopub.status.busy": "2022-05-25T22:31:22.624719Z",
     "iopub.status.idle": "2022-05-25T22:31:59.827433Z",
     "shell.execute_reply": "2022-05-25T22:31:59.827855Z",
     "shell.execute_reply.started": "2022-05-02T12:23:24.781377Z"
    },
    "papermill": {
     "duration": 37.220599,
     "end_time": "2022-05-25T22:31:59.828051",
     "exception": false,
     "start_time": "2022-05-25T22:31:22.607452",
     "status": "completed"
    },
    "tags": []
   },
   "outputs": [
    {
     "name": "stderr",
     "output_type": "stream",
     "text": [
      "2022-05-25 22:31:22.640580: W tensorflow/core/framework/cpu_allocator_impl.cc:80] Allocation of 4113200000 exceeds 10% of free system memory.\n"
     ]
    },
    {
     "name": "stdout",
     "output_type": "stream",
     "text": [
      "Epoch 1/10\n",
      "21/21 [==============================] - 5s 184ms/step - loss: 0.6506 - accuracy: 0.6335 - val_loss: 0.6517 - val_accuracy: 0.6283\n",
      "Epoch 2/10\n",
      "21/21 [==============================] - 3s 149ms/step - loss: 0.6253 - accuracy: 0.6492 - val_loss: 0.6433 - val_accuracy: 0.6283\n",
      "Epoch 3/10\n",
      "21/21 [==============================] - 3s 149ms/step - loss: 0.6021 - accuracy: 0.6507 - val_loss: 0.6374 - val_accuracy: 0.6462\n",
      "Epoch 4/10\n",
      "21/21 [==============================] - 4s 188ms/step - loss: 0.5800 - accuracy: 0.6588 - val_loss: 0.6278 - val_accuracy: 0.6532\n",
      "Epoch 5/10\n",
      "21/21 [==============================] - 3s 151ms/step - loss: 0.5609 - accuracy: 0.6818 - val_loss: 0.6733 - val_accuracy: 0.6291\n",
      "Epoch 6/10\n",
      "21/21 [==============================] - 3s 150ms/step - loss: 0.5400 - accuracy: 0.6903 - val_loss: 0.6188 - val_accuracy: 0.6384\n",
      "Epoch 7/10\n",
      "21/21 [==============================] - 3s 149ms/step - loss: 0.5212 - accuracy: 0.7179 - val_loss: 0.6087 - val_accuracy: 0.6602\n",
      "Epoch 8/10\n",
      "21/21 [==============================] - 3s 169ms/step - loss: 0.5052 - accuracy: 0.7389 - val_loss: 0.6741 - val_accuracy: 0.6306\n",
      "Epoch 9/10\n",
      "21/21 [==============================] - 3s 161ms/step - loss: 0.4906 - accuracy: 0.7522 - val_loss: 0.6496 - val_accuracy: 0.6415\n",
      "Epoch 10/10\n",
      "21/21 [==============================] - 3s 141ms/step - loss: 0.4777 - accuracy: 0.7654 - val_loss: 0.6438 - val_accuracy: 0.6446\n"
     ]
    }
   ],
   "source": [
    "# train the model\n",
    "\n",
    "history = model.fit(x_train,\n",
    "                    y_train,\n",
    "                    epochs=10,\n",
    "                    batch_size=512,\n",
    "                    validation_data=(x_val, y_val))"
   ]
  },
  {
   "cell_type": "code",
   "execution_count": 9,
   "id": "20b112ab",
   "metadata": {
    "execution": {
     "iopub.execute_input": "2022-05-25T22:31:59.995841Z",
     "iopub.status.busy": "2022-05-25T22:31:59.995012Z",
     "iopub.status.idle": "2022-05-25T22:32:00.220747Z",
     "shell.execute_reply": "2022-05-25T22:32:00.221220Z",
     "shell.execute_reply.started": "2022-05-02T12:24:01.425737Z"
    },
    "papermill": {
     "duration": 0.313055,
     "end_time": "2022-05-25T22:32:00.221373",
     "exception": false,
     "start_time": "2022-05-25T22:31:59.908318",
     "status": "completed"
    },
    "tags": []
   },
   "outputs": [
    {
     "data": {
      "image/png": "[encoded data removed]",
      "text/plain": [
       "<Figure size 432x288 with 1 Axes>"
      ]
     },
     "metadata": {
      "needs_background": "light"
     },
     "output_type": "display_data"
    }
   ],
   "source": [
    "# plot loss over epochs\n",
    "\n",
    "import matplotlib.pyplot as plt\n",
    "\n",
    "history_dict = history.history\n",
    "loss_values = history_dict[\"loss\"]\n",
    "val_loss_values = history_dict[\"val_loss\"]\n",
    "epochs = range(1, len(loss_values) + 1)\n",
    "plt.plot(epochs, loss_values, \"r\", label=\"Training loss\") # \"b--\" is for \"blue dashed line\"\n",
    "plt.plot(epochs, val_loss_values, \"b\", label=\"Validation loss\") # b is for \"solid blue line\"\n",
    "plt.title(\"Training and validation loss\")\n",
    "plt.xlabel(\"Epochs\")\n",
    "plt.ylabel(\"Loss\")\n",
    "plt.legend()\n",
    "plt.show()"
   ]
  },
  {
   "cell_type": "code",
   "execution_count": 10,
   "id": "744d4b1b",
   "metadata": {
    "execution": {
     "iopub.execute_input": "2022-05-25T22:32:00.388146Z",
     "iopub.status.busy": "2022-05-25T22:32:00.387477Z",
     "iopub.status.idle": "2022-05-25T22:32:00.937130Z",
     "shell.execute_reply": "2022-05-25T22:32:00.936450Z",
     "shell.execute_reply.started": "2022-05-02T12:24:01.640162Z"
    },
    "papermill": {
     "duration": 0.63498,
     "end_time": "2022-05-25T22:32:00.937307",
     "exception": false,
     "start_time": "2022-05-25T22:32:00.302327",
     "status": "completed"
    },
    "tags": []
   },
   "outputs": [
    {
     "name": "stdout",
     "output_type": "stream",
     "text": [
      "Accuracy is 0.6568093385214008\n",
      "F1 score is 0.05161290322580646\n",
      "Precision is 0.8\n",
      "Recall is 0.02666666666666667\n"
     ]
    }
   ],
   "source": [
    "# get test metrics\n",
    "\n",
    "from sklearn import metrics\n",
    "\n",
    "preds = model(x_test)\n",
    "preds = preds.numpy()\n",
    "preds = preds>0.5\n",
    "\n",
    "print(\"Accuracy is\", metrics.accuracy_score(y_test, preds))\n",
    "print(\"F1 score is\", metrics.f1_score(y_test, preds))\n",
    "print(\"Precision is\", metrics.precision_score(y_test, preds))\n",
    "print(\"Recall is\", metrics.recall_score(y_test, preds))"
   ]
  },
  {
   "cell_type": "code",
   "execution_count": 11,
   "id": "215f4436",
   "metadata": {
    "execution": {
     "iopub.execute_input": "2022-05-25T22:32:01.112522Z",
     "iopub.status.busy": "2022-05-25T22:32:01.111688Z",
     "iopub.status.idle": "2022-05-25T22:32:01.363641Z",
     "shell.execute_reply": "2022-05-25T22:32:01.364776Z",
     "shell.execute_reply.started": "2022-05-02T12:24:02.231942Z"
    },
    "papermill": {
     "duration": 0.343002,
     "end_time": "2022-05-25T22:32:01.365136",
     "exception": false,
     "start_time": "2022-05-25T22:32:01.022134",
     "status": "completed"
    },
    "tags": []
   },
   "outputs": [
    {
     "data": {
      "text/plain": [
       "<sklearn.metrics._plot.confusion_matrix.ConfusionMatrixDisplay at 0x7f7c521da110>"
      ]
     },
     "execution_count": 11,
     "metadata": {},
     "output_type": "execute_result"
    },
    {
     "data": {
      "image/png": "[encoded data removed]",
      "text/plain": [
       "<Figure size 432x288 with 2 Axes>"
      ]
     },
     "metadata": {
      "needs_background": "light"
     },
     "output_type": "display_data"
    }
   ],
   "source": [
    "# looking at the confusion matrix\n",
    "\n",
    "from sklearn.metrics import confusion_matrix, ConfusionMatrixDisplay\n",
    "cm = confusion_matrix(y_test, preds)\n",
    "disp = ConfusionMatrixDisplay(confusion_matrix=cm)\n",
    "disp.plot()"
   ]
  }
 ],
 "metadata": {
  "kernelspec": {
   "display_name": "Python 3",
   "language": "python",
   "name": "python3"
  },
  "language_info": {
   "codemirror_mode": {
    "name": "ipython",
    "version": 3
   },
   "file_extension": ".py",
   "mimetype": "text/x-python",
   "name": "python",
   "nbconvert_exporter": "python",
   "pygments_lexer": "ipython3",
   "version": "3.7.12"
  },
  "papermill": {
   "default_parameters": {},
   "duration": 59.631319,
   "end_time": "2022-05-25T22:32:04.909850",
   "environment_variables": {},
   "exception": null,
   "input_path": "__notebook__.ipynb",
   "output_path": "__notebook__.ipynb",
   "parameters": {},
   "start_time": "2022-05-25T22:31:05.278531",
   "version": "2.3.3"
  }
 },
 "nbformat": 4,
 "nbformat_minor": 5
}
