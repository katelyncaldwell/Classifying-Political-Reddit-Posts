{
 "cells": [
  {
   "cell_type": "markdown",
   "id": "0e520fe3",
   "metadata": {
    "papermill": {
     "duration": 0.012037,
     "end_time": "2022-05-27T19:31:11.593740",
     "exception": false,
     "start_time": "2022-05-27T19:31:11.581703",
     "status": "completed"
    },
    "tags": []
   },
   "source": [
    "# Classifying Titles with a Basic Dense Network\n",
    "\n",
    "In this notebook, I use Reddit post titles, labeled with political lean (i.e. 'Conservative' or 'Liberal') to train a simple dense network. \n",
    "\n",
    "The data can be found [here](http://www.kaggle.com/datasets/neelgajare/liberals-vs-conservatives-on-reddit-13000-posts).\n",
    "\n",
    "I referenced many materials to complete this and related notebooks, including [*Deep Learning with Python*](http://https://www.manning.com/books/deep-learning-with-python) by François Chollet and [*Natural Language Processing with Transformers*](http://https://www.oreilly.com/library/view/natural-language-processing/9781098103231/) by Lewis Tunstall, Leandro von Werra, Thomas Wolf."
   ]
  },
  {
   "cell_type": "code",
   "execution_count": 1,
   "id": "fd7e90be",
   "metadata": {
    "_cell_guid": "b1076dfc-b9ad-4769-8c92-a6c4dae69d19",
    "_uuid": "8f2839f25d086af736a60e9eeb907d3b93b6e0e5",
    "execution": {
     "iopub.execute_input": "2022-05-27T19:31:11.621192Z",
     "iopub.status.busy": "2022-05-27T19:31:11.619694Z",
     "iopub.status.idle": "2022-05-27T19:31:11.787061Z",
     "shell.execute_reply": "2022-05-27T19:31:11.786336Z",
     "shell.execute_reply.started": "2022-05-02T12:15:11.692026Z"
    },
    "papermill": {
     "duration": 0.182129,
     "end_time": "2022-05-27T19:31:11.787254",
     "exception": false,
     "start_time": "2022-05-27T19:31:11.605125",
     "status": "completed"
    },
    "tags": []
   },
   "outputs": [
    {
     "name": "stdout",
     "output_type": "stream",
     "text": [
      "/kaggle/input/liberals-vs-conservatives-on-reddit-13000-posts/file_name.csv\n"
     ]
    }
   ],
   "source": [
    "# imports & load data\n",
    "\n",
    "import numpy as np\n",
    "import pandas as pd\n",
    "import os\n",
    "for dirname, _, filenames in os.walk('/kaggle/input'):\n",
    "    for filename in filenames:\n",
    "        print(os.path.join(dirname, filename))\n",
    "        \n",
    "reddit_politics = pd.read_csv(\n",
    "    \"../input/liberals-vs-conservatives-on-reddit-13000-posts/file_name.csv\")"
   ]
  },
  {
   "cell_type": "code",
   "execution_count": 2,
   "id": "ba79a8eb",
   "metadata": {
    "execution": {
     "iopub.execute_input": "2022-05-27T19:31:11.823687Z",
     "iopub.status.busy": "2022-05-27T19:31:11.821896Z",
     "iopub.status.idle": "2022-05-27T19:31:11.827898Z",
     "shell.execute_reply": "2022-05-27T19:31:11.827450Z",
     "shell.execute_reply.started": "2022-05-02T12:15:11.932159Z"
    },
    "papermill": {
     "duration": 0.028461,
     "end_time": "2022-05-27T19:31:11.828016",
     "exception": false,
     "start_time": "2022-05-27T19:31:11.799555",
     "status": "completed"
    },
    "tags": []
   },
   "outputs": [],
   "source": [
    "# drop irrelevant columns & shuffle the data\n",
    "\n",
    "reddit_politics = reddit_politics.drop(columns=['Score', 'Id', 'Subreddit', 'URL', 'Num of Comments', 'Text', 'Date Created'])\n",
    "reddit_politics = reddit_politics.sample(frac=1)"
   ]
  },
  {
   "cell_type": "code",
   "execution_count": 3,
   "id": "087a8027",
   "metadata": {
    "execution": {
     "iopub.execute_input": "2022-05-27T19:31:11.856261Z",
     "iopub.status.busy": "2022-05-27T19:31:11.855327Z",
     "iopub.status.idle": "2022-05-27T19:31:11.858035Z",
     "shell.execute_reply": "2022-05-27T19:31:11.857584Z",
     "shell.execute_reply.started": "2022-05-02T12:15:12.162339Z"
    },
    "papermill": {
     "duration": 0.01888,
     "end_time": "2022-05-27T19:31:11.858141",
     "exception": false,
     "start_time": "2022-05-27T19:31:11.839261",
     "status": "completed"
    },
    "tags": []
   },
   "outputs": [],
   "source": [
    "# create labels & data\n",
    "\n",
    "x = reddit_politics[\"Title\"]\n",
    "y = reddit_politics[\"Political Lean\"]"
   ]
  },
  {
   "cell_type": "code",
   "execution_count": 4,
   "id": "45b89b41",
   "metadata": {
    "execution": {
     "iopub.execute_input": "2022-05-27T19:31:11.885995Z",
     "iopub.status.busy": "2022-05-27T19:31:11.885301Z",
     "iopub.status.idle": "2022-05-27T19:31:11.887665Z",
     "shell.execute_reply": "2022-05-27T19:31:11.887252Z",
     "shell.execute_reply.started": "2022-05-02T12:15:12.376519Z"
    },
    "papermill": {
     "duration": 0.018152,
     "end_time": "2022-05-27T19:31:11.887789",
     "exception": false,
     "start_time": "2022-05-27T19:31:11.869637",
     "status": "completed"
    },
    "tags": []
   },
   "outputs": [],
   "source": [
    "# split the data\n",
    "\n",
    "ten_percent = 1285\n",
    "\n",
    "x_train = x[2571:]\n",
    "x_val = x[1285:2571]\n",
    "x_test = x[:1285]\n",
    "\n",
    "y_train = y[2571:]\n",
    "y_val = y[1285:2571]\n",
    "y_test = y[:1285]"
   ]
  },
  {
   "cell_type": "code",
   "execution_count": 5,
   "id": "ec13c9f9",
   "metadata": {
    "execution": {
     "iopub.execute_input": "2022-05-27T19:31:11.915031Z",
     "iopub.status.busy": "2022-05-27T19:31:11.914275Z",
     "iopub.status.idle": "2022-05-27T19:31:11.921711Z",
     "shell.execute_reply": "2022-05-27T19:31:11.921300Z",
     "shell.execute_reply.started": "2022-05-02T12:15:12.566341Z"
    },
    "papermill": {
     "duration": 0.022946,
     "end_time": "2022-05-27T19:31:11.921841",
     "exception": false,
     "start_time": "2022-05-27T19:31:11.898895",
     "status": "completed"
    },
    "tags": []
   },
   "outputs": [],
   "source": [
    "# prepare label data by converting 'Conservative' and 'Liberal' strings into 1s and 0s\n",
    "\n",
    "def prepareLabelData(data):\n",
    "    # convert to 0s & 1s\n",
    "    return pd.get_dummies(data)['Conservative'].to_numpy()\n",
    "    \n",
    "    \n",
    "y_train = prepareLabelData(y_train)\n",
    "y_val = prepareLabelData(y_val)\n",
    "y_test = prepareLabelData(y_test)"
   ]
  },
  {
   "cell_type": "code",
   "execution_count": 6,
   "id": "83e60ce0",
   "metadata": {
    "execution": {
     "iopub.execute_input": "2022-05-27T19:31:11.951020Z",
     "iopub.status.busy": "2022-05-27T19:31:11.950267Z",
     "iopub.status.idle": "2022-05-27T19:31:20.815037Z",
     "shell.execute_reply": "2022-05-27T19:31:20.814203Z",
     "shell.execute_reply.started": "2022-05-02T12:15:12.755881Z"
    },
    "papermill": {
     "duration": 8.882359,
     "end_time": "2022-05-27T19:31:20.815174",
     "exception": false,
     "start_time": "2022-05-27T19:31:11.932815",
     "status": "completed"
    },
    "tags": []
   },
   "outputs": [
    {
     "name": "stderr",
     "output_type": "stream",
     "text": [
      "2022-05-27 19:31:17.465929: I tensorflow/stream_executor/cuda/cuda_gpu_executor.cc:937] successful NUMA node read from SysFS had negative value (-1), but there must be at least one NUMA node, so returning NUMA node zero\n",
      "2022-05-27 19:31:17.588656: I tensorflow/stream_executor/cuda/cuda_gpu_executor.cc:937] successful NUMA node read from SysFS had negative value (-1), but there must be at least one NUMA node, so returning NUMA node zero\n",
      "2022-05-27 19:31:17.589470: I tensorflow/stream_executor/cuda/cuda_gpu_executor.cc:937] successful NUMA node read from SysFS had negative value (-1), but there must be at least one NUMA node, so returning NUMA node zero\n",
      "2022-05-27 19:31:17.590617: I tensorflow/core/platform/cpu_feature_guard.cc:142] This TensorFlow binary is optimized with oneAPI Deep Neural Network Library (oneDNN) to use the following CPU instructions in performance-critical operations:  AVX2 AVX512F FMA\n",
      "To enable them in other operations, rebuild TensorFlow with the appropriate compiler flags.\n",
      "2022-05-27 19:31:17.591635: I tensorflow/stream_executor/cuda/cuda_gpu_executor.cc:937] successful NUMA node read from SysFS had negative value (-1), but there must be at least one NUMA node, so returning NUMA node zero\n",
      "2022-05-27 19:31:17.592323: I tensorflow/stream_executor/cuda/cuda_gpu_executor.cc:937] successful NUMA node read from SysFS had negative value (-1), but there must be at least one NUMA node, so returning NUMA node zero\n",
      "2022-05-27 19:31:17.592994: I tensorflow/stream_executor/cuda/cuda_gpu_executor.cc:937] successful NUMA node read from SysFS had negative value (-1), but there must be at least one NUMA node, so returning NUMA node zero\n",
      "2022-05-27 19:31:19.806015: I tensorflow/stream_executor/cuda/cuda_gpu_executor.cc:937] successful NUMA node read from SysFS had negative value (-1), but there must be at least one NUMA node, so returning NUMA node zero\n",
      "2022-05-27 19:31:19.806890: I tensorflow/stream_executor/cuda/cuda_gpu_executor.cc:937] successful NUMA node read from SysFS had negative value (-1), but there must be at least one NUMA node, so returning NUMA node zero\n",
      "2022-05-27 19:31:19.807544: I tensorflow/stream_executor/cuda/cuda_gpu_executor.cc:937] successful NUMA node read from SysFS had negative value (-1), but there must be at least one NUMA node, so returning NUMA node zero\n",
      "2022-05-27 19:31:19.808146: I tensorflow/core/common_runtime/gpu/gpu_device.cc:1510] Created device /job:localhost/replica:0/task:0/device:GPU:0 with 15403 MB memory:  -> device: 0, name: Tesla P100-PCIE-16GB, pci bus id: 0000:00:04.0, compute capability: 6.0\n",
      "2022-05-27 19:31:20.176053: I tensorflow/compiler/mlir/mlir_graph_optimization_pass.cc:185] None of the MLIR Optimization Passes are enabled (registered 2)\n"
     ]
    }
   ],
   "source": [
    "# prepare Title data using Keras vectorization layer and one hot encoding\n",
    "\n",
    "import tensorflow as tf\n",
    "from tensorflow.keras.layers import TextVectorization\n",
    "\n",
    "vocab_size = 1000 # maximum length of vocabulary\n",
    "max_len = 100 # maximum length of title\n",
    "\n",
    "vectorize_layer = tf.keras.layers.TextVectorization(\n",
    "        max_tokens=vocab_size,\n",
    "        output_mode='int',\n",
    "        output_sequence_length=max_len)\n",
    "\n",
    "vectorize_layer.adapt(x_train)\n",
    "\n",
    "def prepareTitleData(data, vectorize_layer, vocab_size):\n",
    "    data = data.to_numpy()\n",
    "    data = vectorize_layer(data)\n",
    "    data = tf.one_hot(data, vocab_size)\n",
    "    data = tf.reshape(data, (-1, data.shape[1]*data.shape[2]))\n",
    "    return data\n",
    "\n",
    "x_train = prepareTitleData(x_train, vectorize_layer, vocab_size)\n",
    "x_val = prepareTitleData(x_val, vectorize_layer, vocab_size)\n",
    "x_test = prepareTitleData(x_test, vectorize_layer, vocab_size)"
   ]
  },
  {
   "cell_type": "code",
   "execution_count": 7,
   "id": "81ecfec4",
   "metadata": {
    "execution": {
     "iopub.execute_input": "2022-05-27T19:31:20.852840Z",
     "iopub.status.busy": "2022-05-27T19:31:20.851966Z",
     "iopub.status.idle": "2022-05-27T19:31:20.865282Z",
     "shell.execute_reply": "2022-05-27T19:31:20.864790Z",
     "shell.execute_reply.started": "2022-05-02T12:23:17.826777Z"
    },
    "papermill": {
     "duration": 0.037136,
     "end_time": "2022-05-27T19:31:20.865395",
     "exception": false,
     "start_time": "2022-05-27T19:31:20.828259",
     "status": "completed"
    },
    "tags": []
   },
   "outputs": [],
   "source": [
    "# define and compile the model\n",
    "\n",
    "from tensorflow import keras\n",
    "from tensorflow.keras import layers\n",
    "\n",
    "model = keras.Sequential([\n",
    "    layers.Dropout(0.2),\n",
    "    layers.Dense(64, activation='relu'),\n",
    "    layers.Dense(1, activation='sigmoid')\n",
    "])\n",
    "\n",
    "model.compile(optimizer='rmsprop',\n",
    "              loss='binary_crossentropy',\n",
    "              metrics=['accuracy'])"
   ]
  },
  {
   "cell_type": "code",
   "execution_count": 8,
   "id": "2c515dfb",
   "metadata": {
    "execution": {
     "iopub.execute_input": "2022-05-27T19:31:20.895632Z",
     "iopub.status.busy": "2022-05-27T19:31:20.894561Z",
     "iopub.status.idle": "2022-05-27T19:31:57.291609Z",
     "shell.execute_reply": "2022-05-27T19:31:57.292029Z",
     "shell.execute_reply.started": "2022-05-02T12:23:24.781377Z"
    },
    "papermill": {
     "duration": 36.414125,
     "end_time": "2022-05-27T19:31:57.292189",
     "exception": false,
     "start_time": "2022-05-27T19:31:20.878064",
     "status": "completed"
    },
    "tags": []
   },
   "outputs": [
    {
     "name": "stderr",
     "output_type": "stream",
     "text": [
      "2022-05-27 19:31:20.911577: W tensorflow/core/framework/cpu_allocator_impl.cc:80] Allocation of 4113200000 exceeds 10% of free system memory.\n"
     ]
    },
    {
     "name": "stdout",
     "output_type": "stream",
     "text": [
      "Epoch 1/10\n",
      "21/21 [==============================] - 5s 170ms/step - loss: 0.6584 - accuracy: 0.6442 - val_loss: 0.6399 - val_accuracy: 0.6501\n",
      "Epoch 2/10\n",
      "21/21 [==============================] - 3s 149ms/step - loss: 0.6166 - accuracy: 0.6545 - val_loss: 0.6232 - val_accuracy: 0.6509\n",
      "Epoch 3/10\n",
      "21/21 [==============================] - 3s 150ms/step - loss: 0.5843 - accuracy: 0.6796 - val_loss: 0.6392 - val_accuracy: 0.6501\n",
      "Epoch 4/10\n",
      "21/21 [==============================] - 3s 160ms/step - loss: 0.5577 - accuracy: 0.7103 - val_loss: 0.6096 - val_accuracy: 0.6858\n",
      "Epoch 5/10\n",
      "21/21 [==============================] - 3s 147ms/step - loss: 0.5387 - accuracy: 0.7309 - val_loss: 0.6214 - val_accuracy: 0.6866\n",
      "Epoch 6/10\n",
      "21/21 [==============================] - 3s 148ms/step - loss: 0.5118 - accuracy: 0.7522 - val_loss: 0.6040 - val_accuracy: 0.6983\n",
      "Epoch 7/10\n",
      "21/21 [==============================] - 3s 155ms/step - loss: 0.4907 - accuracy: 0.7710 - val_loss: 0.6019 - val_accuracy: 0.6773\n",
      "Epoch 8/10\n",
      "21/21 [==============================] - 3s 152ms/step - loss: 0.4597 - accuracy: 0.7944 - val_loss: 0.6752 - val_accuracy: 0.6633\n",
      "Epoch 9/10\n",
      "21/21 [==============================] - 4s 174ms/step - loss: 0.4456 - accuracy: 0.7987 - val_loss: 0.6085 - val_accuracy: 0.6734\n",
      "Epoch 10/10\n",
      "21/21 [==============================] - 3s 141ms/step - loss: 0.4234 - accuracy: 0.8163 - val_loss: 0.5924 - val_accuracy: 0.7045\n"
     ]
    }
   ],
   "source": [
    "# train the model\n",
    "\n",
    "history = model.fit(x_train,\n",
    "                    y_train,\n",
    "                    epochs=10,\n",
    "                    batch_size=512,\n",
    "                    validation_data=(x_val, y_val))"
   ]
  },
  {
   "cell_type": "code",
   "execution_count": 9,
   "id": "189084b2",
   "metadata": {
    "execution": {
     "iopub.execute_input": "2022-05-27T19:31:57.456042Z",
     "iopub.status.busy": "2022-05-27T19:31:57.455238Z",
     "iopub.status.idle": "2022-05-27T19:31:57.657646Z",
     "shell.execute_reply": "2022-05-27T19:31:57.656656Z",
     "shell.execute_reply.started": "2022-05-02T12:24:01.425737Z"
    },
    "papermill": {
     "duration": 0.288231,
     "end_time": "2022-05-27T19:31:57.657806",
     "exception": false,
     "start_time": "2022-05-27T19:31:57.369575",
     "status": "completed"
    },
    "tags": []
   },
   "outputs": [
    {
     "data": {
      "image/png": "[encoded data removed]",
      "text/plain": [
       "<Figure size 432x288 with 1 Axes>"
      ]
     },
     "metadata": {
      "needs_background": "light"
     },
     "output_type": "display_data"
    }
   ],
   "source": [
    "# plot loss over epochs\n",
    "\n",
    "import matplotlib.pyplot as plt\n",
    "\n",
    "history_dict = history.history\n",
    "loss_values = history_dict[\"loss\"]\n",
    "val_loss_values = history_dict[\"val_loss\"]\n",
    "epochs = range(1, len(loss_values) + 1)\n",
    "plt.plot(epochs, loss_values, \"r\", label=\"Training loss\") # \"b--\" is for \"blue dashed line\"\n",
    "plt.plot(epochs, val_loss_values, \"b\", label=\"Validation loss\") # b is for \"solid blue line\"\n",
    "plt.title(\"Training and validation loss\")\n",
    "plt.xlabel(\"Epochs\")\n",
    "plt.ylabel(\"Loss\")\n",
    "plt.legend()\n",
    "plt.show()"
   ]
  },
  {
   "cell_type": "code",
   "execution_count": 10,
   "id": "ba2e5495",
   "metadata": {
    "execution": {
     "iopub.execute_input": "2022-05-27T19:31:57.818131Z",
     "iopub.status.busy": "2022-05-27T19:31:57.817500Z",
     "iopub.status.idle": "2022-05-27T19:31:58.495970Z",
     "shell.execute_reply": "2022-05-27T19:31:58.496613Z",
     "shell.execute_reply.started": "2022-05-02T12:24:01.640162Z"
    },
    "papermill": {
     "duration": 0.762015,
     "end_time": "2022-05-27T19:31:58.496820",
     "exception": false,
     "start_time": "2022-05-27T19:31:57.734805",
     "status": "completed"
    },
    "tags": []
   },
   "outputs": [
    {
     "name": "stdout",
     "output_type": "stream",
     "text": [
      "Accuracy is 0.7260700389105058\n",
      "F1 score is 0.4412698412698412\n",
      "Precision is 0.6847290640394089\n",
      "Recall is 0.3255269320843091\n"
     ]
    }
   ],
   "source": [
    "# get test metrics\n",
    "\n",
    "from sklearn import metrics\n",
    "\n",
    "preds = model(x_test)\n",
    "preds = preds.numpy()\n",
    "preds = preds>0.5\n",
    "\n",
    "print(\"Accuracy is\", metrics.accuracy_score(y_test, preds))\n",
    "print(\"F1 score is\", metrics.f1_score(y_test, preds))\n",
    "print(\"Precision is\", metrics.precision_score(y_test, preds))\n",
    "print(\"Recall is\", metrics.recall_score(y_test, preds))"
   ]
  },
  {
   "cell_type": "code",
   "execution_count": 11,
   "id": "e4ae85eb",
   "metadata": {
    "execution": {
     "iopub.execute_input": "2022-05-27T19:31:58.714529Z",
     "iopub.status.busy": "2022-05-27T19:31:58.713690Z",
     "iopub.status.idle": "2022-05-27T19:31:58.926481Z",
     "shell.execute_reply": "2022-05-27T19:31:58.926891Z",
     "shell.execute_reply.started": "2022-05-02T12:24:02.231942Z"
    },
    "papermill": {
     "duration": 0.301525,
     "end_time": "2022-05-27T19:31:58.927057",
     "exception": false,
     "start_time": "2022-05-27T19:31:58.625532",
     "status": "completed"
    },
    "tags": []
   },
   "outputs": [
    {
     "data": {
      "text/plain": [
       "<sklearn.metrics._plot.confusion_matrix.ConfusionMatrixDisplay at 0x7f9acee0c3d0>"
      ]
     },
     "execution_count": 11,
     "metadata": {},
     "output_type": "execute_result"
    },
    {
     "data": {
      "image/png": "[encoded data removed]",
      "text/plain": [
       "<Figure size 432x288 with 2 Axes>"
      ]
     },
     "metadata": {
      "needs_background": "light"
     },
     "output_type": "display_data"
    }
   ],
   "source": [
    "# looking at the confusion matrix\n",
    "\n",
    "from sklearn.metrics import confusion_matrix, ConfusionMatrixDisplay\n",
    "cm = confusion_matrix(y_test, preds)\n",
    "disp = ConfusionMatrixDisplay(confusion_matrix=cm)\n",
    "disp.plot()"
   ]
  }
 ],
 "metadata": {
  "kernelspec": {
   "display_name": "Python 3",
   "language": "python",
   "name": "python3"
  },
  "language_info": {
   "codemirror_mode": {
    "name": "ipython",
    "version": 3
   },
   "file_extension": ".py",
   "mimetype": "text/x-python",
   "name": "python",
   "nbconvert_exporter": "python",
   "pygments_lexer": "ipython3",
   "version": "3.7.12"
  },
  "papermill": {
   "default_parameters": {},
   "duration": 58.328857,
   "end_time": "2022-05-27T19:32:01.956172",
   "environment_variables": {},
   "exception": null,
   "input_path": "__notebook__.ipynb",
   "output_path": "__notebook__.ipynb",
   "parameters": {},
   "start_time": "2022-05-27T19:31:03.627315",
   "version": "2.3.3"
  }
 },
 "nbformat": 4,
 "nbformat_minor": 5
}
