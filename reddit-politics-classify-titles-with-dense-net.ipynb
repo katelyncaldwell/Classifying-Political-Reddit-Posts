{
 "cells": [
  {
   "cell_type": "markdown",
   "id": "7cfe51a2",
   "metadata": {
    "papermill": {
     "duration": 0.011668,
     "end_time": "2022-05-27T17:59:15.222090",
     "exception": false,
     "start_time": "2022-05-27T17:59:15.210422",
     "status": "completed"
    },
    "tags": []
   },
   "source": [
    "# Classifying Titles with a Basic Dense Network\n",
    "\n",
    "In this notebook, I use Reddit post titles, labeled with political lean (i.e. 'Conservative' or 'Liberal') to train a simple dense network. \n",
    "\n",
    "The data can be found [here](http://www.kaggle.com/datasets/neelgajare/liberals-vs-conservatives-on-reddit-13000-posts).\n",
    "\n",
    "I referenced many materials to complete this and related notebooks, including [*Deep Learning with Python*](http://https://www.manning.com/books/deep-learning-with-python) by François Chollet and [*Natural Language Processing with Transformers*](http://https://www.oreilly.com/library/view/natural-language-processing/9781098103231/) by Lewis Tunstall, Leandro von Werra, Thomas Wolf."
   ]
  },
  {
   "cell_type": "code",
   "execution_count": 1,
   "id": "b4847c7e",
   "metadata": {
    "_cell_guid": "b1076dfc-b9ad-4769-8c92-a6c4dae69d19",
    "_uuid": "8f2839f25d086af736a60e9eeb907d3b93b6e0e5",
    "execution": {
     "iopub.execute_input": "2022-05-27T17:59:15.250158Z",
     "iopub.status.busy": "2022-05-27T17:59:15.248604Z",
     "iopub.status.idle": "2022-05-27T17:59:15.433543Z",
     "shell.execute_reply": "2022-05-27T17:59:15.434037Z",
     "shell.execute_reply.started": "2022-05-02T12:15:11.692026Z"
    },
    "papermill": {
     "duration": 0.199766,
     "end_time": "2022-05-27T17:59:15.434290",
     "exception": false,
     "start_time": "2022-05-27T17:59:15.234524",
     "status": "completed"
    },
    "tags": []
   },
   "outputs": [
    {
     "name": "stdout",
     "output_type": "stream",
     "text": [
      "/kaggle/input/liberals-vs-conservatives-on-reddit-13000-posts/file_name.csv\n"
     ]
    }
   ],
   "source": [
    "# imports & load data\n",
    "\n",
    "import numpy as np\n",
    "import pandas as pd\n",
    "import os\n",
    "for dirname, _, filenames in os.walk('/kaggle/input'):\n",
    "    for filename in filenames:\n",
    "        print(os.path.join(dirname, filename))\n",
    "        \n",
    "reddit_politics = pd.read_csv(\n",
    "    \"../input/liberals-vs-conservatives-on-reddit-13000-posts/file_name.csv\")"
   ]
  },
  {
   "cell_type": "code",
   "execution_count": 2,
   "id": "820ca030",
   "metadata": {
    "execution": {
     "iopub.execute_input": "2022-05-27T17:59:15.469877Z",
     "iopub.status.busy": "2022-05-27T17:59:15.466293Z",
     "iopub.status.idle": "2022-05-27T17:59:15.472603Z",
     "shell.execute_reply": "2022-05-27T17:59:15.473012Z",
     "shell.execute_reply.started": "2022-05-02T12:15:11.932159Z"
    },
    "papermill": {
     "duration": 0.027521,
     "end_time": "2022-05-27T17:59:15.473146",
     "exception": false,
     "start_time": "2022-05-27T17:59:15.445625",
     "status": "completed"
    },
    "tags": []
   },
   "outputs": [],
   "source": [
    "# drop irrelevant columns & shuffle the data\n",
    "\n",
    "reddit_politics = reddit_politics.drop(columns=['Score', 'Id', 'Subreddit', 'URL', 'Num of Comments', 'Text', 'Date Created'])\n",
    "reddit_politics = reddit_politics.sample(frac=1)"
   ]
  },
  {
   "cell_type": "code",
   "execution_count": 3,
   "id": "e2a32e77",
   "metadata": {
    "execution": {
     "iopub.execute_input": "2022-05-27T17:59:15.501432Z",
     "iopub.status.busy": "2022-05-27T17:59:15.500762Z",
     "iopub.status.idle": "2022-05-27T17:59:15.502844Z",
     "shell.execute_reply": "2022-05-27T17:59:15.503243Z",
     "shell.execute_reply.started": "2022-05-02T12:15:12.162339Z"
    },
    "papermill": {
     "duration": 0.018914,
     "end_time": "2022-05-27T17:59:15.503361",
     "exception": false,
     "start_time": "2022-05-27T17:59:15.484447",
     "status": "completed"
    },
    "tags": []
   },
   "outputs": [],
   "source": [
    "# create labels & data\n",
    "\n",
    "x = reddit_politics[\"Title\"]\n",
    "y = reddit_politics[\"Political Lean\"]"
   ]
  },
  {
   "cell_type": "code",
   "execution_count": 4,
   "id": "e03bfec3",
   "metadata": {
    "execution": {
     "iopub.execute_input": "2022-05-27T17:59:15.527874Z",
     "iopub.status.busy": "2022-05-27T17:59:15.527098Z",
     "iopub.status.idle": "2022-05-27T17:59:15.532461Z",
     "shell.execute_reply": "2022-05-27T17:59:15.532060Z",
     "shell.execute_reply.started": "2022-05-02T12:15:12.376519Z"
    },
    "papermill": {
     "duration": 0.018444,
     "end_time": "2022-05-27T17:59:15.532564",
     "exception": false,
     "start_time": "2022-05-27T17:59:15.514120",
     "status": "completed"
    },
    "tags": []
   },
   "outputs": [],
   "source": [
    "# split the data\n",
    "\n",
    "ten_percent = 1285\n",
    "\n",
    "x_train = x[2571:]\n",
    "x_val = x[1285:2571]\n",
    "x_test = x[:1285]\n",
    "\n",
    "y_train = y[2571:]\n",
    "y_val = y[1285:2571]\n",
    "y_test = y[:1285]"
   ]
  },
  {
   "cell_type": "code",
   "execution_count": 5,
   "id": "bc331fe9",
   "metadata": {
    "execution": {
     "iopub.execute_input": "2022-05-27T17:59:15.559010Z",
     "iopub.status.busy": "2022-05-27T17:59:15.558475Z",
     "iopub.status.idle": "2022-05-27T17:59:15.565730Z",
     "shell.execute_reply": "2022-05-27T17:59:15.565267Z",
     "shell.execute_reply.started": "2022-05-02T12:15:12.566341Z"
    },
    "papermill": {
     "duration": 0.022532,
     "end_time": "2022-05-27T17:59:15.565873",
     "exception": false,
     "start_time": "2022-05-27T17:59:15.543341",
     "status": "completed"
    },
    "tags": []
   },
   "outputs": [],
   "source": [
    "# prepare label data by converting 'Conservative' and 'Liberal' strings into 1s and 0s\n",
    "\n",
    "def prepareLabelData(data):\n",
    "    # convert to 0s & 1s\n",
    "    return pd.get_dummies(data)['Conservative'].to_numpy()\n",
    "    \n",
    "    \n",
    "y_train = prepareLabelData(y_train)\n",
    "y_val = prepareLabelData(y_val)\n",
    "y_test = prepareLabelData(y_test)"
   ]
  },
  {
   "cell_type": "code",
   "execution_count": 6,
   "id": "2e2df2b3",
   "metadata": {
    "execution": {
     "iopub.execute_input": "2022-05-27T17:59:15.594219Z",
     "iopub.status.busy": "2022-05-27T17:59:15.593688Z",
     "iopub.status.idle": "2022-05-27T17:59:23.986126Z",
     "shell.execute_reply": "2022-05-27T17:59:23.985590Z",
     "shell.execute_reply.started": "2022-05-02T12:15:12.755881Z"
    },
    "papermill": {
     "duration": 8.409282,
     "end_time": "2022-05-27T17:59:23.986262",
     "exception": false,
     "start_time": "2022-05-27T17:59:15.576980",
     "status": "completed"
    },
    "tags": []
   },
   "outputs": [
    {
     "name": "stderr",
     "output_type": "stream",
     "text": [
      "2022-05-27 17:59:20.925737: I tensorflow/stream_executor/cuda/cuda_gpu_executor.cc:937] successful NUMA node read from SysFS had negative value (-1), but there must be at least one NUMA node, so returning NUMA node zero\n",
      "2022-05-27 17:59:21.040696: I tensorflow/stream_executor/cuda/cuda_gpu_executor.cc:937] successful NUMA node read from SysFS had negative value (-1), but there must be at least one NUMA node, so returning NUMA node zero\n",
      "2022-05-27 17:59:21.041493: I tensorflow/stream_executor/cuda/cuda_gpu_executor.cc:937] successful NUMA node read from SysFS had negative value (-1), but there must be at least one NUMA node, so returning NUMA node zero\n",
      "2022-05-27 17:59:21.042690: I tensorflow/core/platform/cpu_feature_guard.cc:142] This TensorFlow binary is optimized with oneAPI Deep Neural Network Library (oneDNN) to use the following CPU instructions in performance-critical operations:  AVX2 AVX512F FMA\n",
      "To enable them in other operations, rebuild TensorFlow with the appropriate compiler flags.\n",
      "2022-05-27 17:59:21.043700: I tensorflow/stream_executor/cuda/cuda_gpu_executor.cc:937] successful NUMA node read from SysFS had negative value (-1), but there must be at least one NUMA node, so returning NUMA node zero\n",
      "2022-05-27 17:59:21.044379: I tensorflow/stream_executor/cuda/cuda_gpu_executor.cc:937] successful NUMA node read from SysFS had negative value (-1), but there must be at least one NUMA node, so returning NUMA node zero\n",
      "2022-05-27 17:59:21.045144: I tensorflow/stream_executor/cuda/cuda_gpu_executor.cc:937] successful NUMA node read from SysFS had negative value (-1), but there must be at least one NUMA node, so returning NUMA node zero\n",
      "2022-05-27 17:59:22.935300: I tensorflow/stream_executor/cuda/cuda_gpu_executor.cc:937] successful NUMA node read from SysFS had negative value (-1), but there must be at least one NUMA node, so returning NUMA node zero\n",
      "2022-05-27 17:59:22.936206: I tensorflow/stream_executor/cuda/cuda_gpu_executor.cc:937] successful NUMA node read from SysFS had negative value (-1), but there must be at least one NUMA node, so returning NUMA node zero\n",
      "2022-05-27 17:59:22.936897: I tensorflow/stream_executor/cuda/cuda_gpu_executor.cc:937] successful NUMA node read from SysFS had negative value (-1), but there must be at least one NUMA node, so returning NUMA node zero\n",
      "2022-05-27 17:59:22.937486: I tensorflow/core/common_runtime/gpu/gpu_device.cc:1510] Created device /job:localhost/replica:0/task:0/device:GPU:0 with 15403 MB memory:  -> device: 0, name: Tesla P100-PCIE-16GB, pci bus id: 0000:00:04.0, compute capability: 6.0\n",
      "2022-05-27 17:59:23.303567: I tensorflow/compiler/mlir/mlir_graph_optimization_pass.cc:185] None of the MLIR Optimization Passes are enabled (registered 2)\n"
     ]
    }
   ],
   "source": [
    "# prepare Title data using Keras vectorization layer and one hot encoding\n",
    "\n",
    "import tensorflow as tf\n",
    "from tensorflow.keras.layers import TextVectorization\n",
    "\n",
    "vocab_size = 1000 # maximum length of vocabulary\n",
    "max_len = 100 # maximum length of title\n",
    "\n",
    "vectorize_layer = tf.keras.layers.TextVectorization(\n",
    "        max_tokens=vocab_size,\n",
    "        output_mode='int',\n",
    "        output_sequence_length=max_len)\n",
    "\n",
    "vectorize_layer.adapt(x_train)\n",
    "\n",
    "def prepareTitleData(data, vectorize_layer, vocab_size):\n",
    "    data = data.to_numpy()\n",
    "    data = vectorize_layer(data)\n",
    "    data = tf.one_hot(data, vocab_size)\n",
    "    data = tf.reshape(data, (-1, data.shape[1]*data.shape[2]))\n",
    "    return data\n",
    "\n",
    "x_train = prepareTitleData(x_train, vectorize_layer, vocab_size)\n",
    "x_val = prepareTitleData(x_val, vectorize_layer, vocab_size)\n",
    "x_test = prepareTitleData(x_test, vectorize_layer, vocab_size)"
   ]
  },
  {
   "cell_type": "code",
   "execution_count": 7,
   "id": "8127be90",
   "metadata": {
    "execution": {
     "iopub.execute_input": "2022-05-27T17:59:24.023779Z",
     "iopub.status.busy": "2022-05-27T17:59:24.022895Z",
     "iopub.status.idle": "2022-05-27T17:59:24.035963Z",
     "shell.execute_reply": "2022-05-27T17:59:24.035483Z",
     "shell.execute_reply.started": "2022-05-02T12:23:17.826777Z"
    },
    "papermill": {
     "duration": 0.036981,
     "end_time": "2022-05-27T17:59:24.036089",
     "exception": false,
     "start_time": "2022-05-27T17:59:23.999108",
     "status": "completed"
    },
    "tags": []
   },
   "outputs": [],
   "source": [
    "# define and compile the model\n",
    "\n",
    "from tensorflow import keras\n",
    "from tensorflow.keras import layers\n",
    "\n",
    "model = keras.Sequential([\n",
    "    layers.Dropout(0.2),\n",
    "    layers.Dense(64, activation='relu'),\n",
    "    layers.Dense(1, activation='sigmoid')\n",
    "])\n",
    "\n",
    "model.compile(optimizer='rmsprop',\n",
    "              loss='binary_crossentropy',\n",
    "              metrics=['accuracy'])"
   ]
  },
  {
   "cell_type": "code",
   "execution_count": 8,
   "id": "9463727b",
   "metadata": {
    "execution": {
     "iopub.execute_input": "2022-05-27T17:59:24.065059Z",
     "iopub.status.busy": "2022-05-27T17:59:24.064353Z",
     "iopub.status.idle": "2022-05-27T18:00:00.577095Z",
     "shell.execute_reply": "2022-05-27T18:00:00.576607Z",
     "shell.execute_reply.started": "2022-05-02T12:23:24.781377Z"
    },
    "papermill": {
     "duration": 36.528891,
     "end_time": "2022-05-27T18:00:00.577221",
     "exception": false,
     "start_time": "2022-05-27T17:59:24.048330",
     "status": "completed"
    },
    "tags": []
   },
   "outputs": [
    {
     "name": "stderr",
     "output_type": "stream",
     "text": [
      "2022-05-27 17:59:24.081914: W tensorflow/core/framework/cpu_allocator_impl.cc:80] Allocation of 4113200000 exceeds 10% of free system memory.\n"
     ]
    },
    {
     "name": "stdout",
     "output_type": "stream",
     "text": [
      "Epoch 1/10\n",
      "21/21 [==============================] - 5s 181ms/step - loss: 0.6547 - accuracy: 0.6476 - val_loss: 0.6711 - val_accuracy: 0.6236\n",
      "Epoch 2/10\n",
      "21/21 [==============================] - 3s 169ms/step - loss: 0.6167 - accuracy: 0.6497 - val_loss: 0.6440 - val_accuracy: 0.6236\n",
      "Epoch 3/10\n",
      "21/21 [==============================] - 3s 147ms/step - loss: 0.5904 - accuracy: 0.6801 - val_loss: 0.6426 - val_accuracy: 0.6283\n",
      "Epoch 4/10\n",
      "21/21 [==============================] - 3s 164ms/step - loss: 0.5604 - accuracy: 0.7141 - val_loss: 0.7532 - val_accuracy: 0.4230\n",
      "Epoch 5/10\n",
      "21/21 [==============================] - 3s 146ms/step - loss: 0.5319 - accuracy: 0.7305 - val_loss: 0.6267 - val_accuracy: 0.6501\n",
      "Epoch 6/10\n",
      "21/21 [==============================] - 3s 149ms/step - loss: 0.4970 - accuracy: 0.7632 - val_loss: 0.6129 - val_accuracy: 0.6680\n",
      "Epoch 7/10\n",
      "21/21 [==============================] - 3s 150ms/step - loss: 0.4729 - accuracy: 0.7857 - val_loss: 0.7458 - val_accuracy: 0.6345\n",
      "Epoch 8/10\n",
      "21/21 [==============================] - 3s 160ms/step - loss: 0.4457 - accuracy: 0.8024 - val_loss: 0.7265 - val_accuracy: 0.5163\n",
      "Epoch 9/10\n",
      "21/21 [==============================] - 3s 148ms/step - loss: 0.4298 - accuracy: 0.8046 - val_loss: 0.7613 - val_accuracy: 0.6392\n",
      "Epoch 10/10\n",
      "21/21 [==============================] - 3s 139ms/step - loss: 0.4097 - accuracy: 0.8167 - val_loss: 0.6865 - val_accuracy: 0.6594\n"
     ]
    }
   ],
   "source": [
    "# train the model\n",
    "\n",
    "history = model.fit(x_train,\n",
    "                    y_train,\n",
    "                    epochs=10,\n",
    "                    batch_size=512,\n",
    "                    validation_data=(x_val, y_val))"
   ]
  },
  {
   "cell_type": "code",
   "execution_count": 9,
   "id": "a5ada9ac",
   "metadata": {
    "execution": {
     "iopub.execute_input": "2022-05-27T18:00:00.739768Z",
     "iopub.status.busy": "2022-05-27T18:00:00.739122Z",
     "iopub.status.idle": "2022-05-27T18:00:00.949907Z",
     "shell.execute_reply": "2022-05-27T18:00:00.949393Z",
     "shell.execute_reply.started": "2022-05-02T12:24:01.425737Z"
    },
    "papermill": {
     "duration": 0.295361,
     "end_time": "2022-05-27T18:00:00.950040",
     "exception": false,
     "start_time": "2022-05-27T18:00:00.654679",
     "status": "completed"
    },
    "tags": []
   },
   "outputs": [
    {
     "data": {
      "image/png": "[encoded data removed]",
      "text/plain": [
       "<Figure size 432x288 with 1 Axes>"
      ]
     },
     "metadata": {
      "needs_background": "light"
     },
     "output_type": "display_data"
    }
   ],
   "source": [
    "# plot loss over epochs\n",
    "\n",
    "import matplotlib.pyplot as plt\n",
    "\n",
    "history_dict = history.history\n",
    "loss_values = history_dict[\"loss\"]\n",
    "val_loss_values = history_dict[\"val_loss\"]\n",
    "epochs = range(1, len(loss_values) + 1)\n",
    "plt.plot(epochs, loss_values, \"r\", label=\"Training loss\") # \"b--\" is for \"blue dashed line\"\n",
    "plt.plot(epochs, val_loss_values, \"b\", label=\"Validation loss\") # b is for \"solid blue line\"\n",
    "plt.title(\"Training and validation loss\")\n",
    "plt.xlabel(\"Epochs\")\n",
    "plt.ylabel(\"Loss\")\n",
    "plt.legend()\n",
    "plt.show()"
   ]
  },
  {
   "cell_type": "code",
   "execution_count": 10,
   "id": "2cb72292",
   "metadata": {
    "execution": {
     "iopub.execute_input": "2022-05-27T18:00:01.109371Z",
     "iopub.status.busy": "2022-05-27T18:00:01.108293Z",
     "iopub.status.idle": "2022-05-27T18:00:01.652904Z",
     "shell.execute_reply": "2022-05-27T18:00:01.653574Z",
     "shell.execute_reply.started": "2022-05-02T12:24:01.640162Z"
    },
    "papermill": {
     "duration": 0.626945,
     "end_time": "2022-05-27T18:00:01.653780",
     "exception": false,
     "start_time": "2022-05-27T18:00:01.026835",
     "status": "completed"
    },
    "tags": []
   },
   "outputs": [
    {
     "name": "stdout",
     "output_type": "stream",
     "text": [
      "Accuracy is 0.6972762645914397\n",
      "F1 score is 0.1979381443298969\n",
      "Precision is 0.8275862068965517\n",
      "Recall is 0.11241217798594848\n"
     ]
    }
   ],
   "source": [
    "# get test metrics\n",
    "\n",
    "from sklearn import metrics\n",
    "\n",
    "preds = model(x_test)\n",
    "preds = preds.numpy()\n",
    "preds = preds>0.5\n",
    "\n",
    "print(\"Accuracy is\", metrics.accuracy_score(y_test, preds))\n",
    "print(\"F1 score is\", metrics.f1_score(y_test, preds))\n",
    "print(\"Precision is\", metrics.precision_score(y_test, preds))\n",
    "print(\"Recall is\", metrics.recall_score(y_test, preds))"
   ]
  },
  {
   "cell_type": "code",
   "execution_count": 11,
   "id": "b72c2f93",
   "metadata": {
    "execution": {
     "iopub.execute_input": "2022-05-27T18:00:01.825566Z",
     "iopub.status.busy": "2022-05-27T18:00:01.824310Z",
     "iopub.status.idle": "2022-05-27T18:00:02.064782Z",
     "shell.execute_reply": "2022-05-27T18:00:02.064266Z",
     "shell.execute_reply.started": "2022-05-02T12:24:02.231942Z"
    },
    "papermill": {
     "duration": 0.328682,
     "end_time": "2022-05-27T18:00:02.064917",
     "exception": false,
     "start_time": "2022-05-27T18:00:01.736235",
     "status": "completed"
    },
    "tags": []
   },
   "outputs": [
    {
     "data": {
      "text/plain": [
       "<sklearn.metrics._plot.confusion_matrix.ConfusionMatrixDisplay at 0x7fa1a80d2090>"
      ]
     },
     "execution_count": 11,
     "metadata": {},
     "output_type": "execute_result"
    },
    {
     "data": {
      "image/png": "[encoded data removed]",
      "text/plain": [
       "<Figure size 432x288 with 2 Axes>"
      ]
     },
     "metadata": {
      "needs_background": "light"
     },
     "output_type": "display_data"
    }
   ],
   "source": [
    "# looking at the confusion matrix\n",
    "\n",
    "from sklearn.metrics import confusion_matrix, ConfusionMatrixDisplay\n",
    "cm = confusion_matrix(y_test, preds)\n",
    "disp = ConfusionMatrixDisplay(confusion_matrix=cm)\n",
    "disp.plot()"
   ]
  }
 ],
 "metadata": {
  "kernelspec": {
   "display_name": "Python 3",
   "language": "python",
   "name": "python3"
  },
  "language_info": {
   "codemirror_mode": {
    "name": "ipython",
    "version": 3
   },
   "file_extension": ".py",
   "mimetype": "text/x-python",
   "name": "python",
   "nbconvert_exporter": "python",
   "pygments_lexer": "ipython3",
   "version": "3.7.12"
  },
  "papermill": {
   "default_parameters": {},
   "duration": 58.396333,
   "end_time": "2022-05-27T18:00:05.617983",
   "environment_variables": {},
   "exception": null,
   "input_path": "__notebook__.ipynb",
   "output_path": "__notebook__.ipynb",
   "parameters": {},
   "start_time": "2022-05-27T17:59:07.221650",
   "version": "2.3.3"
  }
 },
 "nbformat": 4,
 "nbformat_minor": 5
}
